{
  "nbformat": 4,
  "nbformat_minor": 0,
  "metadata": {
    "colab": {
      "provenance": [],
      "authorship_tag": "ABX9TyMyb2boLqQ9Vq53Xj5WOmRZ",
      "include_colab_link": true
    },
    "kernelspec": {
      "name": "python3",
      "display_name": "Python 3"
    },
    "language_info": {
      "name": "python"
    }
  },
  "cells": [
    {
      "cell_type": "markdown",
      "metadata": {
        "id": "view-in-github",
        "colab_type": "text"
      },
      "source": [
        "<a href=\"https://colab.research.google.com/github/C3A4/Regex/blob/main/Regex.ipynb\" target=\"_parent\"><img src=\"https://colab.research.google.com/assets/colab-badge.svg\" alt=\"Open In Colab\"/></a>"
      ]
    },
    {
      "cell_type": "code",
      "execution_count": 1,
      "metadata": {
        "id": "uazDBHMYFrvM"
      },
      "outputs": [],
      "source": [
        "import re"
      ]
    },
    {
      "cell_type": "code",
      "source": [
        "texto = 'o macaco é malaco'\n",
        "padrao = re.compile(r'ma.aco')\n",
        "check = padrao.findall(texto)\n",
        "print(check)"
      ],
      "metadata": {
        "colab": {
          "base_uri": "https://localhost:8080/"
        },
        "id": "5MdNPGQiISwT",
        "outputId": "1f4257a0-4fe8-4d7c-c7a5-721be03daec7"
      },
      "execution_count": 4,
      "outputs": [
        {
          "output_type": "stream",
          "name": "stdout",
          "text": [
            "['macaco', 'malaco']\n"
          ]
        }
      ]
    },
    {
      "cell_type": "code",
      "source": [
        "texto = '''\n",
        "cachaça\n",
        "cathaça\n",
        "cabhaça\n",
        "caxhaça\n",
        "'''\n",
        "padrao = re.compile(r'ca.haça')\n",
        "check = padrao.findall(texto)\n",
        "print(check)"
      ],
      "metadata": {
        "colab": {
          "base_uri": "https://localhost:8080/"
        },
        "id": "oXEgUg1WJJdP",
        "outputId": "b2d05d7a-8527-4b6f-b87b-a7f475269d0e"
      },
      "execution_count": 8,
      "outputs": [
        {
          "output_type": "stream",
          "name": "stdout",
          "text": [
            "['cachaça', 'cathaça', 'cabhaça', 'caxhaça']\n"
          ]
        }
      ]
    },
    {
      "cell_type": "code",
      "source": [
        "texto = 'urubu'\n",
        "padrao1 = re.compile(r'^u')\n",
        "padrao2 = re.compile(r'[^u]')\n",
        "check1 = padrao1.findall(texto)\n",
        "check2 = padrao2.findall(texto)\n",
        "print(check1)\n",
        "print(check2)"
      ],
      "metadata": {
        "colab": {
          "base_uri": "https://localhost:8080/"
        },
        "id": "YNnlqmXIK6Mj",
        "outputId": "5357c6b9-959b-4800-eb1b-8aeb42c72163"
      },
      "execution_count": 11,
      "outputs": [
        {
          "output_type": "stream",
          "name": "stdout",
          "text": [
            "['u']\n",
            "['r', 'b']\n"
          ]
        }
      ]
    },
    {
      "cell_type": "code",
      "source": [
        "texto = 'urubu2009'\n",
        "padrao1 = re.compile(r'\\d')\n",
        "padrao2 = re.compile(r'[\\D]')\n",
        "check1 = padrao1.findall(texto)\n",
        "check2 = padrao2.findall(texto)\n",
        "print(check1)\n",
        "print(check2)"
      ],
      "metadata": {
        "colab": {
          "base_uri": "https://localhost:8080/"
        },
        "id": "u9hrRiL1MhTJ",
        "outputId": "dde3f312-e46a-4368-92c1-0df02f282d27"
      },
      "execution_count": 13,
      "outputs": [
        {
          "output_type": "stream",
          "name": "stdout",
          "text": [
            "['2', '0', '0', '9']\n",
            "['u', 'r', 'u', 'b', 'u']\n"
          ]
        }
      ]
    },
    {
      "cell_type": "code",
      "source": [
        "texto = '''\n",
        "\n",
        " urubu2009\n",
        "\n",
        "'''\n",
        "padrao1 = re.compile(r'\\s')\n",
        "padrao2 = re.compile(r'\\S')\n",
        "check1 = padrao1.findall(texto)\n",
        "check2 = padrao2.findall(texto)\n",
        "print(check1)\n",
        "print(check2)"
      ],
      "metadata": {
        "colab": {
          "base_uri": "https://localhost:8080/"
        },
        "id": "qaDXyb9uOygs",
        "outputId": "a69d42a7-c705-419d-b45c-6c3327afa51f"
      },
      "execution_count": 16,
      "outputs": [
        {
          "output_type": "stream",
          "name": "stdout",
          "text": [
            "['\\n', '\\n', ' ', '\\n', '\\n']\n",
            "['u', 'r', 'u', 'b', 'u', '2', '0', '0', '9']\n"
          ]
        }
      ]
    },
    {
      "cell_type": "code",
      "source": [
        "texto = '''\n",
        "\n",
        "urubu!_@ 2009-*%\n",
        "\n",
        "'''\n",
        "padrao1 = re.compile(r'\\w')\n",
        "padrao2 = re.compile(r'\\W')\n",
        "check1 = padrao1.findall(texto)\n",
        "check2 = padrao2.findall(texto)\n",
        "print(check1)\n",
        "print(check2)"
      ],
      "metadata": {
        "colab": {
          "base_uri": "https://localhost:8080/"
        },
        "id": "k2S4HF6OQbW4",
        "outputId": "78184237-c5df-4498-ba21-9463b93cda5f"
      },
      "execution_count": 17,
      "outputs": [
        {
          "output_type": "stream",
          "name": "stdout",
          "text": [
            "['u', 'r', 'u', 'b', 'u', '_', '2', '0', '0', '9']\n",
            "['\\n', '\\n', '!', '@', ' ', '-', '*', '%', '\\n', '\\n']\n"
          ]
        }
      ]
    },
    {
      "cell_type": "code",
      "source": [
        "texto = 'urubu'\n",
        "padrao1 = re.compile(r'u')\n",
        "check_findall = padrao1.findall(texto)\n",
        "check_match = padrao1.match(texto)\n",
        "check_search = padrao1.search(texto)\n",
        "check_finditer = padrao1.finditer(texto)\n",
        "print(check_findall)\n",
        "print(check_match)\n",
        "print(check_search)\n",
        "print(check_finditer)"
      ],
      "metadata": {
        "colab": {
          "base_uri": "https://localhost:8080/"
        },
        "id": "fjFrUSZaSD2i",
        "outputId": "c6e64639-547d-4968-a7fa-1e6f7d0ae040"
      },
      "execution_count": 27,
      "outputs": [
        {
          "output_type": "stream",
          "name": "stdout",
          "text": [
            "['u', 'u', 'u']\n",
            "<re.Match object; span=(0, 1), match='u'>\n",
            "<re.Match object; span=(0, 1), match='u'>\n",
            "<callable_iterator object at 0x7d24b64da8c0>\n"
          ]
        }
      ]
    },
    {
      "cell_type": "code",
      "source": [
        "validacoes = check_finditer\n",
        "for validacao in validacoes:\n",
        " print(validacao)"
      ],
      "metadata": {
        "colab": {
          "base_uri": "https://localhost:8080/"
        },
        "id": "T_HBXeUsUKrP",
        "outputId": "a25643ed-db4c-44a9-9005-f0cc89a945b1"
      },
      "execution_count": 28,
      "outputs": [
        {
          "output_type": "stream",
          "name": "stdout",
          "text": [
            "<re.Match object; span=(0, 1), match='u'>\n",
            "<re.Match object; span=(2, 3), match='u'>\n",
            "<re.Match object; span=(4, 5), match='u'>\n"
          ]
        }
      ]
    },
    {
      "cell_type": "code",
      "source": [
        "texto = '''\n",
        "Flamengo 1992\n",
        "'''\n",
        "padrao = re.compile(r'[a-zA-Z0-9]')\n",
        "validacoes = padrao.finditer(texto)\n",
        "for validacao in validacoes:\n",
        "  print(validacao)"
      ],
      "metadata": {
        "colab": {
          "base_uri": "https://localhost:8080/"
        },
        "id": "_L8Z_bQfVS2b",
        "outputId": "87c73a51-2d94-4c4c-ed6b-58fafd5c1d58"
      },
      "execution_count": 29,
      "outputs": [
        {
          "output_type": "stream",
          "name": "stdout",
          "text": [
            "<re.Match object; span=(1, 2), match='F'>\n",
            "<re.Match object; span=(2, 3), match='l'>\n",
            "<re.Match object; span=(3, 4), match='a'>\n",
            "<re.Match object; span=(4, 5), match='m'>\n",
            "<re.Match object; span=(5, 6), match='e'>\n",
            "<re.Match object; span=(6, 7), match='n'>\n",
            "<re.Match object; span=(7, 8), match='g'>\n",
            "<re.Match object; span=(8, 9), match='o'>\n",
            "<re.Match object; span=(10, 11), match='1'>\n",
            "<re.Match object; span=(11, 12), match='9'>\n",
            "<re.Match object; span=(12, 13), match='9'>\n",
            "<re.Match object; span=(13, 14), match='2'>\n"
          ]
        }
      ]
    },
    {
      "cell_type": "code",
      "source": [
        "texto = '''\n",
        "Flamengo 1992\n",
        "'''\n",
        "padrao = re.compile(r'[a-zA-Z]+ [0-9]+')\n",
        "validacoes = padrao.finditer(texto)\n",
        "for validacao in validacoes:\n",
        "  print(validacao)"
      ],
      "metadata": {
        "colab": {
          "base_uri": "https://localhost:8080/"
        },
        "outputId": "0cb4f7d8-a55f-4f27-8ac1-8eecfd1f1eb3",
        "id": "_nTAxRGsWnmo"
      },
      "execution_count": 32,
      "outputs": [
        {
          "output_type": "stream",
          "name": "stdout",
          "text": [
            "<re.Match object; span=(1, 14), match='Flamengo 1992'>\n"
          ]
        }
      ]
    },
    {
      "cell_type": "code",
      "source": [
        "texto = '''\n",
        "Flamengo 1992\n",
        "Marquinhos 2011\n",
        "Relampago2024\n",
        "'''\n",
        "padrao = re.compile(r'[a-zA-Z]+ [0-9]+')\n",
        "validacoes = padrao.finditer(texto)\n",
        "for validacao in validacoes:\n",
        "  print(validacao)"
      ],
      "metadata": {
        "colab": {
          "base_uri": "https://localhost:8080/"
        },
        "outputId": "41be192b-1610-4bac-f902-a178968e3efd",
        "id": "CxTcfhDEXjFk"
      },
      "execution_count": 38,
      "outputs": [
        {
          "output_type": "stream",
          "name": "stdout",
          "text": [
            "<re.Match object; span=(1, 14), match='Flamengo 1992'>\n",
            "<re.Match object; span=(15, 30), match='Marquinhos 2011'>\n"
          ]
        }
      ]
    },
    {
      "cell_type": "code",
      "source": [
        "texto = '''\n",
        "babalu\n",
        "'''\n",
        "padrao = re.compile(r'[ba]*')\n",
        "validacoes = padrao.finditer(texto)\n",
        "for validacao in validacoes:\n",
        "  print(validacao)"
      ],
      "metadata": {
        "colab": {
          "base_uri": "https://localhost:8080/"
        },
        "id": "N3BB59ecYXdM",
        "outputId": "36b94817-c755-4e74-c866-549ee0332774"
      },
      "execution_count": 40,
      "outputs": [
        {
          "output_type": "stream",
          "name": "stdout",
          "text": [
            "<re.Match object; span=(0, 0), match=''>\n",
            "<re.Match object; span=(1, 5), match='baba'>\n",
            "<re.Match object; span=(5, 5), match=''>\n",
            "<re.Match object; span=(6, 6), match=''>\n",
            "<re.Match object; span=(7, 7), match=''>\n",
            "<re.Match object; span=(8, 8), match=''>\n"
          ]
        }
      ]
    },
    {
      "cell_type": "code",
      "source": [
        "texto = '''\n",
        "babalu\n",
        "'''\n",
        "padrao = re.compile(r'[ba]+')\n",
        "validacoes = padrao.finditer(texto)\n",
        "for validacao in validacoes:\n",
        "  print(validacao)"
      ],
      "metadata": {
        "colab": {
          "base_uri": "https://localhost:8080/"
        },
        "id": "FwvLcJ-DYzPX",
        "outputId": "c71a1204-0280-446e-dca0-d1643b9de52b"
      },
      "execution_count": 41,
      "outputs": [
        {
          "output_type": "stream",
          "name": "stdout",
          "text": [
            "<re.Match object; span=(1, 5), match='baba'>\n"
          ]
        }
      ]
    },
    {
      "cell_type": "code",
      "source": [
        "texto = '''\n",
        "babalu\n",
        "'''\n",
        "padrao = re.compile(r'[ba]?')\n",
        "validacoes = padrao.finditer(texto)\n",
        "for validacao in validacoes:\n",
        "  print(validacao)"
      ],
      "metadata": {
        "colab": {
          "base_uri": "https://localhost:8080/"
        },
        "id": "5wuwIH5oZiI9",
        "outputId": "424c17d5-0439-4f98-925b-2e400300fff3"
      },
      "execution_count": 42,
      "outputs": [
        {
          "output_type": "stream",
          "name": "stdout",
          "text": [
            "<re.Match object; span=(0, 0), match=''>\n",
            "<re.Match object; span=(1, 2), match='b'>\n",
            "<re.Match object; span=(2, 3), match='a'>\n",
            "<re.Match object; span=(3, 4), match='b'>\n",
            "<re.Match object; span=(4, 5), match='a'>\n",
            "<re.Match object; span=(5, 5), match=''>\n",
            "<re.Match object; span=(6, 6), match=''>\n",
            "<re.Match object; span=(7, 7), match=''>\n",
            "<re.Match object; span=(8, 8), match=''>\n"
          ]
        }
      ]
    },
    {
      "cell_type": "code",
      "source": [
        "texto = '''\n",
        "babalu\n",
        "'''\n",
        "padrao = re.compile(r'[ba]{2}')\n",
        "validacoes = padrao.finditer(texto)\n",
        "for validacao in validacoes:\n",
        "  print(validacao)"
      ],
      "metadata": {
        "colab": {
          "base_uri": "https://localhost:8080/"
        },
        "id": "TVN6Lfm9aAGM",
        "outputId": "fadb0b93-83f3-453a-8dbe-7459335837c8"
      },
      "execution_count": 43,
      "outputs": [
        {
          "output_type": "stream",
          "name": "stdout",
          "text": [
            "<re.Match object; span=(1, 3), match='ba'>\n",
            "<re.Match object; span=(3, 5), match='ba'>\n"
          ]
        }
      ]
    },
    {
      "cell_type": "code",
      "source": [
        "texto = '''\n",
        "Flamengo 1992\n",
        "flamengo 2019\n",
        "'''\n",
        "padrao = re.compile(r'(F|f)?[a-z]{7} [0-9]+')\n",
        "validacoes = padrao.finditer(texto)\n",
        "for validacao in validacoes:\n",
        "  print(validacao)"
      ],
      "metadata": {
        "colab": {
          "base_uri": "https://localhost:8080/"
        },
        "outputId": "63e4e183-380d-4bf6-e3c1-079114c6e774",
        "id": "8a62hhLGalEj"
      },
      "execution_count": 45,
      "outputs": [
        {
          "output_type": "stream",
          "name": "stdout",
          "text": [
            "<re.Match object; span=(1, 14), match='Flamengo 1992'>\n",
            "<re.Match object; span=(15, 28), match='flamengo 2019'>\n"
          ]
        }
      ]
    }
  ]
}